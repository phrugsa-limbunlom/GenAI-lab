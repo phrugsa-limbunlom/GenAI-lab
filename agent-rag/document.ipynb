{
 "cells": [
  {
   "cell_type": "code",
   "id": "initial_id",
   "metadata": {
    "collapsed": true,
    "ExecuteTime": {
     "end_time": "2025-01-27T22:55:15.970554Z",
     "start_time": "2025-01-27T22:55:15.966601Z"
    }
   },
   "source": [
    "urls = [\n",
    "    \"https://openreview.net/pdf?id=VtmBAGCN7o\",\n",
    "    \"https://openreview.net/pdf?id=6PmJoRfdaK\",\n",
    "    \"https://openreview.net/pdf?id=LzPWWPAdY4\",\n",
    "    \"https://openreview.net/pdf?id=VTF8yNQM66\",\n",
    "    \"https://openreview.net/pdf?id=hSyW5go0v8\",\n",
    "    \"https://openreview.net/pdf?id=9WD9KwssyT\",\n",
    "    \"https://openreview.net/pdf?id=yV6fD7LYkF\",\n",
    "    \"https://openreview.net/pdf?id=hnrB5YHoYu\",\n",
    "    \"https://openreview.net/pdf?id=WbWtOYIzIK\",\n",
    "    \"https://openreview.net/pdf?id=c5pwL0Soay\",\n",
    "    \"https://openreview.net/pdf?id=TpD2aG1h0D\"\n",
    "]\n"
   ],
   "outputs": [],
   "execution_count": 1
  },
  {
   "metadata": {
    "ExecuteTime": {
     "end_time": "2025-01-27T22:55:16.043429Z",
     "start_time": "2025-01-27T22:55:16.040564Z"
    }
   },
   "cell_type": "code",
   "source": [
    "papers = [\n",
    "    \"metagpt.pdf\",\n",
    "    \"longlora.pdf\",\n",
    "    \"loftq.pdf\",\n",
    "    \"swebench.pdf\",\n",
    "    \"selfrag.pdf\",\n",
    "    \"zipformer.pdf\",\n",
    "    \"values.pdf\",\n",
    "    \"finetune_fair_diffusion.pdf\",\n",
    "    \"knowledge_card.pdf\",\n",
    "    \"metra.pdf\",\n",
    "    \"vr_mcl.pdf\"\n",
    "]"
   ],
   "id": "5196e8ab83e47e24",
   "outputs": [],
   "execution_count": 2
  },
  {
   "metadata": {
    "ExecuteTime": {
     "end_time": "2025-01-27T22:55:23.707593Z",
     "start_time": "2025-01-27T22:55:23.508395Z"
    }
   },
   "cell_type": "code",
   "source": [
    "for url, paper in zip(urls, papers):\n",
    "    !wget \"{url}\" -O \"{paper}\""
   ],
   "id": "e58bab67785fbee1",
   "outputs": [
    {
     "name": "stderr",
     "output_type": "stream",
     "text": [
      "'wget' is not recognized as an internal or external command,\n",
      "operable program or batch file.\n",
      "'wget' is not recognized as an internal or external command,\n",
      "operable program or batch file.\n",
      "'wget' is not recognized as an internal or external command,\n",
      "operable program or batch file.\n",
      "'wget' is not recognized as an internal or external command,\n",
      "operable program or batch file.\n",
      "'wget' is not recognized as an internal or external command,\n",
      "operable program or batch file.\n",
      "'wget' is not recognized as an internal or external command,\n",
      "operable program or batch file.\n",
      "'wget' is not recognized as an internal or external command,\n",
      "operable program or batch file.\n",
      "'wget' is not recognized as an internal or external command,\n",
      "operable program or batch file.\n",
      "'wget' is not recognized as an internal or external command,\n",
      "operable program or batch file.\n",
      "'wget' is not recognized as an internal or external command,\n",
      "operable program or batch file.\n",
      "'wget' is not recognized as an internal or external command,\n",
      "operable program or batch file.\n"
     ]
    }
   ],
   "execution_count": 3
  },
  {
   "metadata": {
    "ExecuteTime": {
     "end_time": "2025-01-27T23:13:50.162597Z",
     "start_time": "2025-01-27T23:13:20.932076Z"
    }
   },
   "cell_type": "code",
   "source": [
    "import os\n",
    "import requests\n",
    "\n",
    "dir_path = os.getcwd()\n",
    "\n",
    "output_directory = os.path.join(dir_path, \"document\")\n",
    "\n",
    "os.makedirs(output_directory, exist_ok=True)\n",
    "\n",
    "for url, paper in zip(urls, papers):\n",
    "    response = requests.get(url)\n",
    "    print(f\"Downloading {url} - Status Code: {response.status_code}\")\n",
    "    if response.status_code == 200: \n",
    "        file_path = os.path.join(output_directory, paper)\n",
    "        with open(file_path, 'wb') as file:\n",
    "            file.write(response.content)\n",
    "        print(f\"Downloaded {paper} to {file_path}\")\n",
    "    else:\n",
    "        print(f\"Failed to download {url}. Status code: {response.status_code}\")\n"
   ],
   "id": "fc97c6ae939e33e3",
   "outputs": [
    {
     "name": "stdout",
     "output_type": "stream",
     "text": [
      "Downloading https://openreview.net/pdf?id=VtmBAGCN7o - Status Code: 200\n",
      "Downloaded metagpt.pdf to C:\\Users\\asus\\PycharmProjects\\GenAI-lab\\agent-rag-llamaindex\\output\\metagpt.pdf\n",
      "Downloading https://openreview.net/pdf?id=6PmJoRfdaK - Status Code: 200\n",
      "Downloaded longlora.pdf to C:\\Users\\asus\\PycharmProjects\\GenAI-lab\\agent-rag-llamaindex\\output\\longlora.pdf\n",
      "Downloading https://openreview.net/pdf?id=LzPWWPAdY4 - Status Code: 200\n",
      "Downloaded loftq.pdf to C:\\Users\\asus\\PycharmProjects\\GenAI-lab\\agent-rag-llamaindex\\output\\loftq.pdf\n",
      "Downloading https://openreview.net/pdf?id=VTF8yNQM66 - Status Code: 200\n",
      "Downloaded swebench.pdf to C:\\Users\\asus\\PycharmProjects\\GenAI-lab\\agent-rag-llamaindex\\output\\swebench.pdf\n",
      "Downloading https://openreview.net/pdf?id=hSyW5go0v8 - Status Code: 200\n",
      "Downloaded selfrag.pdf to C:\\Users\\asus\\PycharmProjects\\GenAI-lab\\agent-rag-llamaindex\\output\\selfrag.pdf\n",
      "Downloading https://openreview.net/pdf?id=9WD9KwssyT - Status Code: 200\n",
      "Downloaded zipformer.pdf to C:\\Users\\asus\\PycharmProjects\\GenAI-lab\\agent-rag-llamaindex\\output\\zipformer.pdf\n",
      "Downloading https://openreview.net/pdf?id=yV6fD7LYkF - Status Code: 200\n",
      "Downloaded values.pdf to C:\\Users\\asus\\PycharmProjects\\GenAI-lab\\agent-rag-llamaindex\\output\\values.pdf\n",
      "Downloading https://openreview.net/pdf?id=hnrB5YHoYu - Status Code: 200\n",
      "Downloaded finetune_fair_diffusion.pdf to C:\\Users\\asus\\PycharmProjects\\GenAI-lab\\agent-rag-llamaindex\\output\\finetune_fair_diffusion.pdf\n",
      "Downloading https://openreview.net/pdf?id=WbWtOYIzIK - Status Code: 200\n",
      "Downloaded knowledge_card.pdf to C:\\Users\\asus\\PycharmProjects\\GenAI-lab\\agent-rag-llamaindex\\output\\knowledge_card.pdf\n",
      "Downloading https://openreview.net/pdf?id=c5pwL0Soay - Status Code: 200\n",
      "Downloaded metra.pdf to C:\\Users\\asus\\PycharmProjects\\GenAI-lab\\agent-rag-llamaindex\\output\\metra.pdf\n",
      "Downloading https://openreview.net/pdf?id=TpD2aG1h0D - Status Code: 200\n",
      "Downloaded vr_mcl.pdf to C:\\Users\\asus\\PycharmProjects\\GenAI-lab\\agent-rag-llamaindex\\output\\vr_mcl.pdf\n"
     ]
    }
   ],
   "execution_count": 9
  }
 ],
 "metadata": {
  "kernelspec": {
   "display_name": "Python 3",
   "language": "python",
   "name": "python3"
  },
  "language_info": {
   "codemirror_mode": {
    "name": "ipython",
    "version": 2
   },
   "file_extension": ".py",
   "mimetype": "text/x-python",
   "name": "python",
   "nbconvert_exporter": "python",
   "pygments_lexer": "ipython2",
   "version": "2.7.6"
  }
 },
 "nbformat": 4,
 "nbformat_minor": 5
}
